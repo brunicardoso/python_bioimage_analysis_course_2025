{
 "cells": [
  {
   "cell_type": "code",
   "execution_count": null,
   "id": "9c9842f2",
   "metadata": {},
   "outputs": [],
   "source": [
    "#import libraries\n",
    "from pathlib import Path\n",
    "import os\n",
    "import napari\n",
    "from napari.utils.notebook_display import nbscreenshot\n",
    "import numpy as np\n",
    "from skimage.io import imread, imshow, imsave \n",
    "import glob\n",
    "from cellpose import models, io"
   ]
  },
  {
   "cell_type": "code",
   "execution_count": null,
   "id": "8617c627-a1d1-49f4-bd8c-c0e97582ba1e",
   "metadata": {},
   "outputs": [],
   "source": [
    "'''Uncommnent this cells if your images are .Bmp. and  need to be converted to .tiff (or .tif) to be used in the Cellpose GUI '''\n",
    "# #code for converting .Bmp files to .tiff files\n",
    "# tiff_files = np.sort(glob.glob('images/*Channel 2*.Bmp'))\n",
    "# output_folder = 'images_and_model/'\n",
    "# if not os.path.exists(output_folder):\n",
    "#     os.makedirs(output_folder)\n",
    "# for i in tiff_files:\n",
    "#     image = imread(i)\n",
    "#     output_path = os.path.join(output_folder, f\"{os.path.splitext(os.path.basename(i))[0]}.tiff\")\n",
    "#     imsave(output_path, image)\n",
    "    "
   ]
  },
  {
   "cell_type": "code",
   "execution_count": null,
   "id": "fed8c558",
   "metadata": {
    "scrolled": true
   },
   "outputs": [],
   "source": [
    "model = models.CellposeModel(gpu=True, pretrained_model = 'path_to/images_and_model')  # if no GPU, set gpu=False\n",
    "channels = [0,0]\n",
    "flow_threshold = 0.8\n",
    "\n",
    "\n",
    "\n",
    "tiff_files = np.sort(glob.glob('images_and_model/*Channel*.tiff'))\n",
    "\n",
    "\n",
    "output_folder = 'cellpose_label_images/'\n",
    "if not os.path.exists(output_folder):\n",
    "    os.makedirs(output_folder)\n",
    "\n",
    "for img_path in tiff_files:\n",
    "    print(\"Processing image:\", img_path)\n",
    "    \n",
    "    try:\n",
    "        image = imread(img_path)\n",
    "        #run cellpose\n",
    "        label_image, flows, styles = model.eval(image, flow_threshold=flow_threshold, \n",
    "                                               channels=channels)\n",
    "        output_path = os.path.join(output_folder, f\"{os.path.splitext(os.path.basename(img_path))[0]}_cellpose.tiff\")\n",
    "        imsave(output_path, label_image)\n",
    "        print(f\"Saved label to: {output_path}\")\n",
    "        \n",
    "    except Exception as e:\n",
    "        print(f\"Error processing {img_path}: {e}\")\n",
    "# For loop for running nuclear segmentation, generation of eroded and ring labels and quantification\n",
    "\n",
    "   \n",
    "    \n",
    "    \n",
    "    \n",
    "\n",
    "   \n",
    "        \n",
    "\n"
   ]
  },
  {
   "cell_type": "code",
   "execution_count": null,
   "id": "86753b8e",
   "metadata": {},
   "outputs": [],
   "source": [
    "dataset_path = Path('images_and_model/')\n",
    "viewer = napari.Viewer()\n",
    "viewer.window.resize(1800, 1000)\n",
    "viewer.open(sorted(dataset_path.glob(\"*Channel*.tiff\")), stack=True)\n",
    "image = viewer.layers[0].data\n",
    "viewer.add_image(image, visible=True)"
   ]
  },
  {
   "cell_type": "code",
   "execution_count": null,
   "id": "a97a9313-b9f7-4e0f-ac6c-b0f167982281",
   "metadata": {},
   "outputs": [],
   "source": [
    "dataset_path = Path('cellpose_label_images/')\n",
    "viewer = napari.Viewer()\n",
    "viewer.window.resize(1800, 1000)\n",
    "viewer.open(sorted(dataset_path.glob(\"*Channel*.tiff\")), stack=True)\n",
    "cellpose_label = viewer.layers[0].data\n",
    "viewer.add_labels(cellpose_label, visible=True)\n",
    "viewer.add_image(image, visible=True)"
   ]
  }
 ],
 "metadata": {
  "kernelspec": {
   "display_name": "Python 3 (ipykernel)",
   "language": "python",
   "name": "python3"
  },
  "language_info": {
   "codemirror_mode": {
    "name": "ipython",
    "version": 3
   },
   "file_extension": ".py",
   "mimetype": "text/x-python",
   "name": "python",
   "nbconvert_exporter": "python",
   "pygments_lexer": "ipython3",
   "version": "3.10.13"
  },
  "varInspector": {
   "cols": {
    "lenName": 16,
    "lenType": 16,
    "lenVar": 40
   },
   "kernels_config": {
    "python": {
     "delete_cmd_postfix": "",
     "delete_cmd_prefix": "del ",
     "library": "var_list.py",
     "varRefreshCmd": "print(var_dic_list())"
    },
    "r": {
     "delete_cmd_postfix": ") ",
     "delete_cmd_prefix": "rm(",
     "library": "var_list.r",
     "varRefreshCmd": "cat(var_dic_list()) "
    }
   },
   "types_to_exclude": [
    "module",
    "function",
    "builtin_function_or_method",
    "instance",
    "_Feature"
   ],
   "window_display": false
  }
 },
 "nbformat": 4,
 "nbformat_minor": 5
}

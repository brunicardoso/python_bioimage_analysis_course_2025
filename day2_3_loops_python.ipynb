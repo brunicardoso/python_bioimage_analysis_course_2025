{
 "cells": [
  {
   "cell_type": "markdown",
   "metadata": {
    "id": "d66J8gFg-lk-"
   },
   "source": [
    "# Loops in Python\n",
    "Loops allow us to execute a block of code multiple times. Python has two main types of loops: for loops and while loops.\n",
    "Loops are very useful in Bioimage Analysis because they can be used in tasks that require automation, such as processing several images in a folder at once"
   ]
  },
  {
   "cell_type": "markdown",
   "metadata": {
    "id": "5DG_YJuM-llC"
   },
   "source": [
    "## For Loop\n",
    "A `for` loop is used to iterate over a sequence (such as a list, tuple, dictionary, or range)."
   ]
  },
  {
   "cell_type": "code",
   "execution_count": null,
   "metadata": {
    "id": "khD_kS0Q-llC"
   },
   "outputs": [],
   "source": [
    "# Example of a for loop\n",
    "numbers = [1, 2, 3, 4, 5]\n",
    "for num in numbers:\n",
    "    print(num)  # Prints each number in the list"
   ]
  },
  {
   "cell_type": "markdown",
   "metadata": {
    "id": "3u1VglQx-llD"
   },
   "source": [
    "## While Loop\n",
    "A `while` loop continues to execute as long as a given condition is `True`."
   ]
  },
  {
   "cell_type": "code",
   "execution_count": null,
   "metadata": {
    "id": "fpOYdON8-llE"
   },
   "outputs": [],
   "source": [
    "# Example of a while loop\n",
    "count = 10\n",
    "while count < 20:\n",
    "    print(count)  # Prints numbers from 0 to 4\n",
    "    count += 1"
   ]
  },
  {
   "cell_type": "markdown",
   "metadata": {
    "id": "SzWMerZ3-llE"
   },
   "source": [
    "## Loop Control Statements\n",
    "Python provides loop control statements to change execution flow inside a loop: `break`, `continue`, and `pass`."
   ]
  },
  {
   "cell_type": "code",
   "execution_count": null,
   "metadata": {
    "id": "Rtfk7qrc-llE"
   },
   "outputs": [],
   "source": [
    "# Using break\n",
    "for num in range(10):\n",
    "    if num == 5:\n",
    "        break  # Stops the loop when num is 5\n",
    "    print(num)"
   ]
  },
  {
   "cell_type": "code",
   "execution_count": null,
   "metadata": {
    "id": "EyVdjpGe-llF"
   },
   "outputs": [],
   "source": [
    "# Using continue\n",
    "for num in range(5):\n",
    "    if num == 2:\n",
    "        continue  # Skips the rest of the loop for num = 2\n",
    "    print(num)"
   ]
  }
 ],
 "metadata": {
  "colab": {
   "provenance": [
    {
     "file_id": "1yrzWalXaHMO5AtPRkjCIaw5fmCzOgfZg",
     "timestamp": 1739897800199
    }
   ]
  },
  "kernelspec": {
   "display_name": "Python 3 (ipykernel)",
   "language": "python",
   "name": "python3"
  },
  "language_info": {
   "codemirror_mode": {
    "name": "ipython",
    "version": 3
   },
   "file_extension": ".py",
   "mimetype": "text/x-python",
   "name": "python",
   "nbconvert_exporter": "python",
   "pygments_lexer": "ipython3",
   "version": "3.10.13"
  }
 },
 "nbformat": 4,
 "nbformat_minor": 4
}

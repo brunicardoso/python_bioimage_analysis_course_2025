{
 "cells": [
  {
   "cell_type": "markdown",
   "metadata": {
    "id": "v9N7qtBozOBg"
   },
   "source": [
    "# **Instant Gratification**\n"
   ]
  },
  {
   "cell_type": "markdown",
   "metadata": {
    "id": "gxUPzdy8EtRN"
   },
   "source": [
    "**Install required packages and specific modules from packages**"
   ]
  },
  {
   "cell_type": "code",
   "execution_count": null,
   "metadata": {
    "id": "YridRDes0rzh"
   },
   "outputs": [],
   "source": [
    "from skimage.io import imread, imsave\n",
    "import numpy as np\n",
    "import matplotlib.pyplot as plt\n",
    "from matplotlib.patches import Rectangle"
   ]
  },
  {
   "cell_type": "markdown",
   "metadata": {
    "id": "XqOiSf-sDvUP"
   },
   "source": [
    "**Download image**\n",
    "image source https://imagej.net/ij/images/  . This is an example dataset from ImageJ"
   ]
  },
  {
   "cell_type": "code",
   "execution_count": null,
   "metadata": {
    "id": "HDDLPLx3zKkw"
   },
   "outputs": [],
   "source": [
    "!wget https://imagej.net/ij/images/3_channel_inverted_luts.tif"
   ]
  },
  {
   "cell_type": "markdown",
   "metadata": {
    "id": "nldAjuQg_Ldf"
   },
   "source": [
    "**Visualize image**"
   ]
  },
  {
   "cell_type": "code",
   "execution_count": null,
   "metadata": {
    "id": "qQuMTVCE6wBp"
   },
   "outputs": [],
   "source": [
    "\n",
    "img= imread('3_channel_inverted_luts.tif')\n",
    "plt.imshow(img[0:708,0:708:,0], cmap='grey')\n",
    "plt.axis(\"off\")"
   ]
  },
  {
   "cell_type": "markdown",
   "metadata": {
    "id": "WiTE8kE2Ee05"
   },
   "source": [
    "# **It is your turn to try out different things**\n",
    "\n",
    "1. Inspect the image by running the code img.shape. The first two values are y and x pixel dimensions and the third value is the number of channels.\n",
    "This order might be different for different images. Sometimes the 'channel' dimension comes first.\n",
    "2. This image has 4 channels.  Modify the code plt.imshow(img[:,:,0], cmap='grey') to visualize the other channels.\n",
    "3. Play around with the color map (cmap). Check out other cmap options here https://matplotlib.org/stable/users/explain/colors/colormaps.html\n",
    "4. Crop the image by limiting the pixel range being displayed. For example plt.imshow(img[200:400,200:400:,0], cmap='grey')\n",
    "5. Test plt.imshow(img[:,:,:,], cmap='grey') and plt.imshow(img[:,:,0], cmap='grey')\n",
    "6. Add the hashtag # symbol before the code and try to run it. What happens?\n",
    "6. Download another image from the internet and play with it.\n",
    "\n",
    "\n"
   ]
  },
  {
   "cell_type": "markdown",
   "metadata": {
    "id": "UCHUbZfbGqzp"
   },
   "source": [
    "# **Images are numbers**"
   ]
  },
  {
   "cell_type": "markdown",
   "metadata": {
    "id": "Di1g-fZ8Yoc5"
   },
   "source": [
    "Images are composed of arrays of numbers (tables). Because the image we are working on is quite large (708 by 708 pixels), the full table of numbers can not be displayed"
   ]
  },
  {
   "cell_type": "code",
   "execution_count": null,
   "metadata": {
    "id": "FiaCD3Oh8ZPh"
   },
   "outputs": [],
   "source": [
    "print(img)"
   ]
  },
  {
   "cell_type": "markdown",
   "metadata": {
    "id": "zwnrm5dWYy3I"
   },
   "source": [
    "Printing fewer pixels give us a better idea of the images are numbers concept"
   ]
  },
  {
   "cell_type": "code",
   "execution_count": null,
   "metadata": {
    "id": "QhewHScI7jaF"
   },
   "outputs": [],
   "source": [
    "print(img[340:350, 340:350,0])"
   ]
  },
  {
   "cell_type": "code",
   "execution_count": null,
   "metadata": {
    "id": "xfhpCQlZ9dbZ"
   },
   "outputs": [],
   "source": [
    "\n",
    "plt.imshow(img[340:350, 340:350,0], cmap='grey')\n",
    "plt.axis(\"off\")"
   ]
  },
  {
   "cell_type": "markdown",
   "metadata": {
    "id": "kh-2vicZley1"
   },
   "source": [
    "\n",
    "\n",
    "\n",
    "**Our image is an 16 bit image, thus each pixel can have a value up to 65536 (2^16). A pixel value of 0 (the least intense) is black whereas a pixel value of 65535 (the most intense) is white** .\n",
    "If you want to learn more abot bit depth, here a good start. https://bioimagebook.github.io/chapters/1-concepts/3-bit_depths/bit_depths.html"
   ]
  },
  {
   "cell_type": "code",
   "execution_count": null,
   "metadata": {
    "id": "JJNekIeph8SV"
   },
   "outputs": [],
   "source": [
    "# @title\n",
    "import numpy as np\n",
    "import matplotlib.pyplot as plt\n",
    "from matplotlib.patches import Rectangle\n",
    "\n",
    "\n",
    "original_image = img[:, :, 0]\n",
    "image = img[:, :, 0]\n",
    "\n",
    "# Define rectangle coordinates\n",
    "start_row, end_row = 340, 350\n",
    "start_col, end_col = 340, 350\n",
    "width, height = end_col - start_col, end_row - start_row\n",
    "\n",
    "# Create subplots\n",
    "fig, axs = plt.subplots(1, 3, figsize=(15, 15))\n",
    "\n",
    "# First subplot: original image with rectangle\n",
    "axs[0].imshow(original_image, cmap='gray', interpolation='nearest')\n",
    "rect = Rectangle(\n",
    "    (start_col, start_row), width, height,\n",
    "    edgecolor='blue', facecolor='none', linewidth=1.5\n",
    ")\n",
    "axs[0].add_patch(rect)\n",
    "axs[0].set_title(\"Original Image with Rectangle\")\n",
    "\n",
    "# Second subplot: zoomed-in region without text\n",
    "axs[1].imshow(img[start_row:end_row, start_col:end_col, 0], cmap='gray', interpolation='nearest')\n",
    "axs[1].set_title(\"Zoomed-In Region\")\n",
    "\n",
    "# Third subplot: zoomed-in region with pixel values\n",
    "zoomed_image = img[start_row:end_row, start_col:end_col, 0]\n",
    "axs[2].imshow(zoomed_image, cmap='gray', interpolation='nearest')\n",
    "\n",
    "# Overlay pixel values on the zoomed-in region\n",
    "rows, cols = zoomed_image.shape\n",
    "for i in range(rows):\n",
    "    for j in range(cols):\n",
    "        axs[2].text(j, i, f\"{int(zoomed_image[i, j])}\", color='white', ha='center', va='center', fontsize=8)\n",
    "\n",
    "axs[2].set_title(\"Zoomed-In Region with Pixel Values\")\n",
    "\n",
    "# Remove axis ticks\n",
    "for ax in axs:\n",
    "    ax.axis(\"off\")\n",
    "\n",
    "plt.tight_layout()\n",
    "plt.show()\n"
   ]
  },
  {
   "cell_type": "markdown",
   "metadata": {
    "id": "BNs_1MvbXxKZ"
   },
   "source": [
    "The image below is an 8 bit image, thus each pixel can have a value up to 256 (2^8). A pixel value of 0 (the least intense) is black whereas a pixel value of 255 (the most intense) is white"
   ]
  },
  {
   "cell_type": "markdown",
   "metadata": {
    "id": "3BYB0dnjxuzG"
   },
   "source": [
    "# **Its your turn**\n",
    "\n",
    "1. Display array as an image\n",
    "2. Change values in the array and visualize the changes"
   ]
  },
  {
   "cell_type": "code",
   "execution_count": null,
   "metadata": {
    "id": "6b12rfcDxUwM"
   },
   "outputs": [],
   "source": [
    "array = np.array(\n",
    "    [[255, 20, 0, 255, 20, 2], [255, 110, 0, 255, 20, 2], [255, 0, 0, 255, 20, 2],\n",
    "     [255, 20, 0, 255, 20, 2], [255, 67, 0, 255, 20, 2],[255, 0, 0, 255, 20, 2]]\n",
    "\n",
    ")\n",
    "\n",
    "print(array)"
   ]
  },
  {
   "cell_type": "code",
   "execution_count": null,
   "metadata": {},
   "outputs": [],
   "source": []
  },
  {
   "cell_type": "code",
   "execution_count": null,
   "metadata": {},
   "outputs": [],
   "source": [
    "img=1"
   ]
  },
  {
   "cell_type": "code",
   "execution_count": null,
   "metadata": {},
   "outputs": [],
   "source": []
  }
 ],
 "metadata": {
  "colab": {
   "authorship_tag": "ABX9TyMbJOqxDjljLuxtb4sNtRVz",
   "provenance": [],
   "toc_visible": true
  },
  "kernelspec": {
   "display_name": "Python 3 (ipykernel)",
   "language": "python",
   "name": "python3"
  },
  "language_info": {
   "codemirror_mode": {
    "name": "ipython",
    "version": 3
   },
   "file_extension": ".py",
   "mimetype": "text/x-python",
   "name": "python",
   "nbconvert_exporter": "python",
   "pygments_lexer": "ipython3",
   "version": "3.10.13"
  }
 },
 "nbformat": 4,
 "nbformat_minor": 4
}

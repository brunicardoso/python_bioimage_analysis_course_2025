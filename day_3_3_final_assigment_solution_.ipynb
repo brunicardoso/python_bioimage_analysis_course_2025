{
 "cells": [
  {
   "cell_type": "code",
   "execution_count": null,
   "id": "3e25732f",
   "metadata": {},
   "outputs": [],
   "source": [
    "#import libraries\n",
    "import os\n",
    "import glob\n",
    "from pathlib import Path\n",
    "import numpy as np\n",
    "import matplotlib.pyplot as plt\n",
    "from cellpose import models, io\n",
    "from skimage.io import  imshow, imsave \n",
    "from skimage.measure import regionprops_table\n",
    "import matplotlib\n",
    "import pandas as pd\n",
    "import napari\n",
    "import re\n"
   ]
  },
  {
   "cell_type": "markdown",
   "id": "26cb4af2-5e21-40fb-8ee4-fd62048c8df6",
   "metadata": {},
   "source": [
    "# Final assigment solution - Protein translocation"
   ]
  },
  {
   "cell_type": "markdown",
   "id": "672b7176",
   "metadata": {},
   "source": [
    "#  A few words about the  Dataset we will be exploring\n",
    "Link for downloading the dataset https://bbbc.broadinstitute.org/BBBC014\n",
    "This 96-well plate has images of cytoplasm to nucleus translocation of the transcription factor NFκB in MCF7 (human breast adenocarcinoma cell line) and A549 (human alveolar basal epithelial) cells in response to TNFα concentration.\n",
    "\n",
    "For this notebook, we only worked with the MCF7 cells (located in wells A-D)\n",
    "\n",
    "Images\n",
    "Images are at 10x objective magnification. The plate was acquired at Vitra Bioscience on the CellCard reader. For each well there is one field with two images: a nuclear counterstain (DAPI) image and a signal stain (FITC) image. Image size is 1360 x 1024 pixels. Images are in 8-bit BMP format.\n",
    "\n",
    "Recommended citation\n",
    "\"We used image set BBBC014v1 provided by Ilya Ravkin, available from the Broad Bioimage Benchmark Collection [Ljosa et al., Nature Methods, 2012].\"\n",
    "\n",
    "Copyright\n",
    "Creative Commons LicenseThe SBS Bioimage CNT images are licensed under a Creative Commons Attribution 3.0 Unported License by Ilya Ravkin."
   ]
  },
  {
   "cell_type": "code",
   "execution_count": null,
   "id": "fefed382",
   "metadata": {
    "scrolled": true
   },
   "outputs": [],
   "source": [
    "\n",
    "print(os.getcwd())"
   ]
  },
  {
   "cell_type": "code",
   "execution_count": null,
   "id": "34100a82-27f1-40a2-b1f8-e71a3669b466",
   "metadata": {},
   "outputs": [],
   "source": [
    "channel2 = plt.imread('BBBC014_v1_images_tiff/Channel 2-01-A-01-00.tiff')"
   ]
  },
  {
   "cell_type": "code",
   "execution_count": null,
   "id": "b21a0e48-4021-4eb9-bd90-5b2aea2e95be",
   "metadata": {},
   "outputs": [],
   "source": [
    "channel1 = plt.imread('BBBC014_v1_images_tiff/Channel 1-01-A-01-00.tiff')"
   ]
  },
  {
   "cell_type": "code",
   "execution_count": null,
   "id": "9cccde43-ee09-4054-82be-b1ceaea47475",
   "metadata": {},
   "outputs": [],
   "source": [
    "imshow(channel1, cmap='gray')"
   ]
  },
  {
   "cell_type": "code",
   "execution_count": null,
   "id": "ae85417a-9008-4b6a-85d9-ee5b7914ae39",
   "metadata": {},
   "outputs": [],
   "source": [
    "nuclear_label_folder = 'nuclear_label_folder/'\n",
    "!mkdir = nuclear_label_folder\n"
   ]
  },
  {
   "cell_type": "code",
   "execution_count": null,
   "id": "f558684c-7e8f-45e1-ad49-d0a9a5d25c04",
   "metadata": {},
   "outputs": [],
   "source": [
    "model = models.Cellpose(gpu=True, model_type= 'nuclei')\n",
    "\n",
    "# apply model\n",
    "\n",
    "channels = [0,0] # This means we are processing single channel greyscale images.\n",
    "nuclear_label_image, flows, styles, diams = model.eval(\n",
    "    channel2, flow_threshold=0.8, diameter=10, channels=channels)\n",
    "\n",
    "\n",
    "imsave(nuclear_label_folder + '.tiff', label_image.astype('uint16'))\n",
    "# show result"
   ]
  },
  {
   "cell_type": "code",
   "execution_count": null,
   "id": "db0a599b-35b8-4088-a5e7-485165efb317",
   "metadata": {},
   "outputs": [],
   "source": [
    "plt.imshow(nuclear_label_image)"
   ]
  },
  {
   "cell_type": "markdown",
   "id": "e13cc1cb-c66c-4487-a747-f9ae610cb15c",
   "metadata": {},
   "source": [
    "## Visualize segmentation results using Napari\n",
    "\n",
    "https://napari.org/stable/"
   ]
  },
  {
   "cell_type": "code",
   "execution_count": null,
   "id": "d9e52b27-21cd-46b7-a7e6-0bf7cc9f2f5c",
   "metadata": {
    "scrolled": true
   },
   "outputs": [],
   "source": [
    "raw_images_path = Path('BBBC014_v1_images_tiff/')\n",
    "viewer = napari.Viewer()\n",
    "viewer.window.resize(1800, 1000)\n",
    "viewer.open(sorted(raw_images_path.glob(\"Channel 2-01-A-01-00.tiff\")), stack=True)\n",
    "viewer.open(sorted(raw_images_path.glob(\"Channel 1-01-A-01-00.tiff\")), stack=True)\n",
    "viewer.add_labels(nuclear_label_image, visible=True)\n"
   ]
  },
  {
   "cell_type": "code",
   "execution_count": null,
   "id": "e910e0ed-fb5c-4a6a-adfc-1725e8b4752b",
   "metadata": {},
   "outputs": [],
   "source": [
    "from skimage import morphology\n",
    "import pyclesperanto_prototype as cle \n",
    "   # Perform a morphological dilation with clesperanto to make cytoplasm label\n",
    "cyto_label = cle.dilate_labels(nuclear_label_image, radius=6)\n",
    " \n",
    "\n",
    "\n",
    "\n",
    "        \n",
    "   \n",
    "cyto_ring = cyto_label - nuclear_label_image\n",
    "\n",
    "cyto_ring = np.array(cyto_ring).astype(int)\n",
    "\n",
    "\n",
    "\n",
    "ring_label_folder = 'ring_label_folder/'\n",
    "!mkdir = ring_label_folder\n",
    "\n",
    "imsave(ring_label_folder  + '_label.tiff', cyto_ring.astype('uint16'))"
   ]
  },
  {
   "cell_type": "code",
   "execution_count": null,
   "id": "e738b5a3-ce9d-41f5-8bcf-2992b7ad539d",
   "metadata": {},
   "outputs": [],
   "source": [
    "raw_images_path = Path('BBBC014_v1_images_tiff/')\n",
    "viewer = napari.Viewer()\n",
    "viewer.window.resize(1800, 1000)\n",
    "viewer.open(sorted(raw_images_path.glob(\"Channel 2-01-A-01-00.tiff\")), stack=True)\n",
    "viewer.open(sorted(raw_images_path.glob(\"Channel 1-01-A-01-00.tiff\")), stack=True)\n",
    "viewer.add_labels(nuclear_label_image, visible=True)\n",
    "viewer.add_labels(cyto_ring, visible=True)\n"
   ]
  },
  {
   "cell_type": "code",
   "execution_count": null,
   "id": "2fd767db-1ba2-47cc-96b2-9e8d91fd57eb",
   "metadata": {},
   "outputs": [],
   "source": [
    "#run morphology and save dafaframe as csv - data wrangling para adquirir a razao\n",
    "from skimage.measure import regionprops_table\n",
    "\n",
    "results_ring = regionprops_table(\n",
    "    cyto_ring, intensity_image= channel1, properties= ('label','mean_intensity'))\n",
    "\n",
    "\n",
    "\n",
    "results = regionprops_table(nuclear_label_image, intensity_image= channel1, properties= ('label','mean_intensity'))"
   ]
  },
  {
   "cell_type": "code",
   "execution_count": null,
   "id": "a3455a78-ac31-4448-9f6a-d6e7ba6fa7a7",
   "metadata": {},
   "outputs": [],
   "source": [
    "#Make dataframe\n",
    "df_results_ring = pd.DataFrame(results_ring)\n",
    "df_results_nucleus = pd.DataFrame(results_eroded)\n",
    "\n",
    "\n",
    "df_results_nucleus['NFKappaB nucleus/cyto']  =  df_results_nucleus['mean_intensity'] / df_results_ring['mean_intensity']\n",
    "\n",
    "#rename mean_intensity column\n",
    "\n",
    "df_results_nucleus"
   ]
  },
  {
   "cell_type": "code",
   "execution_count": null,
   "id": "b027bc21-7928-4cca-9475-a4f3ab1c8d99",
   "metadata": {},
   "outputs": [],
   "source": [
    "df_results_nucleus['NFKappaB nucleus/cyto'].describe()"
   ]
  },
  {
   "cell_type": "code",
   "execution_count": null,
   "id": "7f094b3f-bab1-49ab-aab7-b039daa21729",
   "metadata": {},
   "outputs": [],
   "source": [
    "#plot a graph using seaborn\n",
    "import seaborn as sns\n",
    "sns.swarmplot(data=df_results_nucleus, y='NFKappaB nucleus/cyto')\n"
   ]
  },
  {
   "cell_type": "code",
   "execution_count": null,
   "id": "5da4d612-a88f-4ca9-9336-d397ad641eac",
   "metadata": {},
   "outputs": [],
   "source": []
  }
 ],
 "metadata": {
  "kernelspec": {
   "display_name": "Python 3 (ipykernel)",
   "language": "python",
   "name": "python3"
  },
  "language_info": {
   "codemirror_mode": {
    "name": "ipython",
    "version": 3
   },
   "file_extension": ".py",
   "mimetype": "text/x-python",
   "name": "python",
   "nbconvert_exporter": "python",
   "pygments_lexer": "ipython3",
   "version": "3.10.13"
  },
  "varInspector": {
   "cols": {
    "lenName": 16,
    "lenType": 16,
    "lenVar": 40
   },
   "kernels_config": {
    "python": {
     "delete_cmd_postfix": "",
     "delete_cmd_prefix": "del ",
     "library": "var_list.py",
     "varRefreshCmd": "print(var_dic_list())"
    },
    "r": {
     "delete_cmd_postfix": ") ",
     "delete_cmd_prefix": "rm(",
     "library": "var_list.r",
     "varRefreshCmd": "cat(var_dic_list()) "
    }
   },
   "types_to_exclude": [
    "module",
    "function",
    "builtin_function_or_method",
    "instance",
    "_Feature"
   ],
   "window_display": false
  }
 },
 "nbformat": 4,
 "nbformat_minor": 5
}

{
 "cells": [
  {
   "cell_type": "markdown",
   "id": "386eb508-8727-4a6e-8048-c320075c3f34",
   "metadata": {},
   "source": [
    "# **Python for Automation in Bioimage Analysis Workflows**\n",
    "\n",
    "Manual analysis is often time-consuming, error-prone, and unscalable. \n",
    "Python, with its extensive ecosystem of scientific libraries, provides powerful tools to automate bioimage analysis pipelines,  scalability, improving efficiency, reproducibility, and accuracy.\n",
    "By leveraging specialized libraries, researchers can streamline workflows, extract meaningful insights, and accelerate discoveries in microscopy-based studies.\n",
    "\n",
    "## **Examples of tasks in a bioimage analysis workflow that can be automated:**\n",
    "\n",
    "**1. Preprocessing Automation**\n",
    "\n",
    "Batch processing of images using loops or parallelization with multiprocessing.\n",
    "\n",
    "Standardizing image formats and resolutions.\n",
    "\n",
    "Applying denoising and contrast enhancement techniques automatically.\n",
    "\n",
    "**2. Segmentation and Feature Extraction**\n",
    "\n",
    "Using thresholding, edge detection, or deep learning-based segmentation.\n",
    "\n",
    "Automating cell counting and morphology quantification.\n",
    "\n",
    "Storing extracted features in structured datasets.\n",
    "\n",
    "**3. Machine Learning for Classification**\n",
    "\n",
    "Training models to classify different cell types or conditions.\n",
    "\n",
    "Using transfer learning for enhanced accuracy.\n",
    "\n",
    "Deploying automated classification in real-time analysis workflows.\n",
    "\n",
    "**4. Results Visualization and Reporting**\n",
    "\n",
    "Generating automated plots and reports using matplotlib and seaborn.\n",
    "\n",
    "Exporting results in structured formats (CSV, JSON, or PDF)."
   ]
  },
  {
   "cell_type": "code",
   "execution_count": null,
   "id": "3e25732f",
   "metadata": {},
   "outputs": [],
   "source": [
    "#import libraries\n",
    "import os\n",
    "import glob\n",
    "from pathlib import Path\n",
    "import numpy as np\n",
    "import matplotlib.pyplot as plt\n",
    "from cellpose import models, io\n",
    "from skimage.io import  imshow, imsave \n",
    "from skimage.measure import regionprops_table\n",
    "import matplotlib\n",
    "import pandas as pd\n",
    "import napari\n",
    "import re\n"
   ]
  },
  {
   "cell_type": "markdown",
   "id": "26cb4af2-5e21-40fb-8ee4-fd62048c8df6",
   "metadata": {},
   "source": [
    "# Let´s automate segmentation and quantification of several images in a folder"
   ]
  },
  {
   "cell_type": "markdown",
   "id": "672b7176",
   "metadata": {},
   "source": [
    "#  A few words about the  Dataset we will be exploring\n",
    "Link for downloading the dataset https://bbbc.broadinstitute.org/BBBC014\n",
    "This 96-well plate has images of cytoplasm to nucleus translocation of the transcription factor NFκB in MCF7 (human breast adenocarcinoma cell line) and A549 (human alveolar basal epithelial) cells in response to TNFα concentration.\n",
    "\n",
    "For this notebook, we only worked with the MCF7 cells (located in wells A-D)\n",
    "\n",
    "Images\n",
    "Images are at 10x objective magnification. The plate was acquired at Vitra Bioscience on the CellCard reader. For each well there is one field with two images: a nuclear counterstain (DAPI) image and a signal stain (FITC) image. Image size is 1360 x 1024 pixels. Images are in 8-bit BMP format.\n",
    "\n",
    "Recommended citation\n",
    "\"We used image set BBBC014v1 provided by Ilya Ravkin, available from the Broad Bioimage Benchmark Collection [Ljosa et al., Nature Methods, 2012].\"\n",
    "\n",
    "Copyright\n",
    "Creative Commons LicenseThe SBS Bioimage CNT images are licensed under a Creative Commons Attribution 3.0 Unported License by Ilya Ravkin."
   ]
  },
  {
   "cell_type": "code",
   "execution_count": null,
   "id": "fefed382",
   "metadata": {
    "scrolled": true
   },
   "outputs": [],
   "source": [
    "os.chdir('/Users/user/path_to_your_working_directory') #if using \n",
    "print(os.getcwd())"
   ]
  },
  {
   "cell_type": "markdown",
   "id": "608ce74e",
   "metadata": {},
   "source": [
    "# Automation for Cellpose segmentation"
   ]
  },
  {
   "cell_type": "code",
   "execution_count": null,
   "id": "20078355",
   "metadata": {
    "scrolled": true
   },
   "outputs": [],
   "source": [
    "\n",
    "nucleo_files = np.sort(glob.glob('image_folder/*Channel 2*.tiff'))\n",
    "#make label folder\n",
    "!mkdir BBC014_label_folder\n",
    "# Define the label_folder\n",
    "label_folder = 'label_folder/' # replace with your actual folder path\n",
    "\n",
    "# load the cellpose model outside the loop\n",
    "model = models.Cellpose(gpu=True, model_type='nuclei') #if you do not have GPU on your computer,  replace True for False in the code\n",
    "channels = [0,0] # This means we are processing single channel greyscale images for cellpose\n",
    "\n",
    "\n",
    "for i in nucleo_files:\n",
    "    nucleo_ch1 = plt.imread(i)\n",
    "    print(\"Processing image:\", i)\n",
    "    # apply cellpose model\n",
    "    label_image, *_ = model.eval(nucleo_ch1, flow_threshold=0.8, diameter=10, channels=channels)\n",
    "    \n",
    "    #save label images in a folder\n",
    "    #save label_image as tiff\n",
    "    imsave(os.path.join(label_folder,  f\"{os.path.splitext(os.path.basename(i))[0]}.tiff\"), label_image)\n",
    "   "
   ]
  },
  {
   "cell_type": "code",
   "execution_count": null,
   "id": "db0a599b-35b8-4088-a5e7-485165efb317",
   "metadata": {},
   "outputs": [],
   "source": [
    "nucleo_files"
   ]
  },
  {
   "cell_type": "markdown",
   "id": "e13cc1cb-c66c-4487-a747-f9ae610cb15c",
   "metadata": {},
   "source": [
    "## Visualize segmentation results using Napari\n",
    "\n",
    "Learn more about Napari here https://napari.org/stable/"
   ]
  },
  {
   "cell_type": "code",
   "execution_count": null,
   "id": "d9e52b27-21cd-46b7-a7e6-0bf7cc9f2f5c",
   "metadata": {
    "scrolled": true
   },
   "outputs": [],
   "source": [
    "raw_images_path = Path('image_folder/')\n",
    "label_images_path = Path('label_folder/')\n",
    "viewer = napari.Viewer()\n",
    "viewer.window.resize(1800, 1000)\n",
    "viewer.open(sorted(raw_images_path.glob(\"*Channel 2*.tiff\")), stack=True)\n",
    "viewer.open(sorted(raw_images_path.glob(\"*Channel 1*.tiff\")), stack=True)\n",
    "viewer.open(sorted(label_images_path.glob(\"*Channel*.tiff\")), stack=True)\n",
    "cellpose_label = viewer.layers[2].data\n",
    "viewer.add_labels(cellpose_label, visible=True)\n"
   ]
  },
  {
   "cell_type": "markdown",
   "id": "ea8c9c81",
   "metadata": {},
   "source": [
    "# Automation for measurements"
   ]
  },
  {
   "cell_type": "code",
   "execution_count": null,
   "id": "b72ee576",
   "metadata": {},
   "outputs": [],
   "source": [
    "#\n",
    "\n",
    "results =[]\n",
    "target_files = np.sort(glob.glob('image_folder/*Channel 1*.tiff'))\n",
    "label_files = np.sort(glob.glob('label_folder/*Channel*.tiff'))\n",
    "\n",
    "properties = 'label', 'area', 'mean_intensity'\n",
    "\n",
    "for i in range(len(label_files)):\n",
    "    label_images = plt.imread(label_files[i])\n",
    "    tnf = plt.imread(target_files[i])\n",
    "    \n",
    "    \n",
    "    data = regionprops_table(label_images, intensity_image=tnf,  properties =properties)\n",
    "    \n",
    "\n",
    "    df = pd.DataFrame(data)\n",
    "\n",
    "    df[\"file_name\"]= target_files[i].split('\\\\')[1]\n",
    "    df[\"condition\"]= re.findall('.+ .+-.+-.+-(.+)-.+.tiff',target_files[i].split('\\\\')[1])[0]\n",
    "    df['replicate']= re.findall('.+ .+-.+-(.+)-.+-.+.tiff',target_files[i].split('\\\\')[1])[0]\n",
    "    #Channel 1-01-A-01-00.Bmp\n",
    "    \n",
    "    \n",
    "    results.append(df)"
   ]
  },
  {
   "cell_type": "code",
   "execution_count": null,
   "id": "e41234ee",
   "metadata": {
    "scrolled": true
   },
   "outputs": [],
   "source": [
    "all_results = pd.concat(results)\n"
   ]
  },
  {
   "cell_type": "code",
   "execution_count": null,
   "id": "1e9decca-1bc7-4644-8303-b91fd4862156",
   "metadata": {},
   "outputs": [],
   "source": [
    "all_results.tail(10)"
   ]
  },
  {
   "cell_type": "markdown",
   "id": "80aeb8ac",
   "metadata": {},
   "source": [
    "## Let's do some data visualization "
   ]
  },
  {
   "cell_type": "code",
   "execution_count": null,
   "id": "54f68fd4",
   "metadata": {},
   "outputs": [],
   "source": [
    "\n",
    "import seaborn as sns\n",
    "sns.boxplot(data=all_results, x='condition', y='area', \n",
    "              hue='replicate')"
   ]
  },
  {
   "cell_type": "code",
   "execution_count": null,
   "id": "56035daf-e102-409a-9020-380e7329ddda",
   "metadata": {},
   "outputs": [],
   "source": [
    "sns.jointplot(data=all_results, x='mean_intensity', y='area', \n",
    "              hue='condition')"
   ]
  },
  {
   "cell_type": "code",
   "execution_count": null,
   "id": "e910e0ed-fb5c-4a6a-adfc-1725e8b4752b",
   "metadata": {},
   "outputs": [],
   "source": []
  }
 ],
 "metadata": {
  "kernelspec": {
   "display_name": "Python 3 (ipykernel)",
   "language": "python",
   "name": "python3"
  },
  "language_info": {
   "codemirror_mode": {
    "name": "ipython",
    "version": 3
   },
   "file_extension": ".py",
   "mimetype": "text/x-python",
   "name": "python",
   "nbconvert_exporter": "python",
   "pygments_lexer": "ipython3",
   "version": "3.10.13"
  },
  "varInspector": {
   "cols": {
    "lenName": 16,
    "lenType": 16,
    "lenVar": 40
   },
   "kernels_config": {
    "python": {
     "delete_cmd_postfix": "",
     "delete_cmd_prefix": "del ",
     "library": "var_list.py",
     "varRefreshCmd": "print(var_dic_list())"
    },
    "r": {
     "delete_cmd_postfix": ") ",
     "delete_cmd_prefix": "rm(",
     "library": "var_list.r",
     "varRefreshCmd": "cat(var_dic_list()) "
    }
   },
   "types_to_exclude": [
    "module",
    "function",
    "builtin_function_or_method",
    "instance",
    "_Feature"
   ],
   "window_display": false
  }
 },
 "nbformat": 4,
 "nbformat_minor": 5
}

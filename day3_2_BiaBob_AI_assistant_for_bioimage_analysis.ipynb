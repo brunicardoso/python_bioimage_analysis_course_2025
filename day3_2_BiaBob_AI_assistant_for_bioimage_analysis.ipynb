{
 "cells": [
  {
   "cell_type": "markdown",
   "id": "a234533d-b5e4-450d-bacc-ff6c9c2f327e",
   "metadata": {},
   "source": [
    "# AI assisted programming for bioimage analysis using Bia Bob https://github.com/haesleinhuepf/bia-bob\n",
    "\n"
   ]
  },
  {
   "cell_type": "code",
   "execution_count": null,
   "id": "8e6f6459-d968-4db6-affc-2a5fdb8c683c",
   "metadata": {},
   "outputs": [],
   "source": [
    "from bia_bob import bob\n",
    "bob.__version__"
   ]
  },
  {
   "cell_type": "code",
   "execution_count": null,
   "id": "3328ccbb-7858-4155-bb11-186d7b3dc348",
   "metadata": {},
   "outputs": [],
   "source": [
    "import os\n",
    "# You can call other LLM API's like GPT, DeepSeek and Gemini\n",
    "os.environ[\"ANTHROPIC_API_KEY\"]='your apikey here' \n",
    "\n"
   ]
  },
  {
   "cell_type": "code",
   "execution_count": null,
   "id": "8a5147a8-d5bc-4ba5-80be-34776987dd0e",
   "metadata": {},
   "outputs": [],
   "source": [
    "# from bia_bob import bob\n",
    "bob.initialize(model=\"claude-3-5-sonnet-20240620\", vision_model=\"claude-3-5-sonnet-20240620\")"
   ]
  },
  {
   "cell_type": "code",
   "execution_count": null,
   "id": "703dbbec-1602-42b1-ab21-835c1d6c1fc0",
   "metadata": {},
   "outputs": [],
   "source": [
    "%bob write a code that opens and displays image hela-cells-8bit.tif"
   ]
  },
  {
   "cell_type": "code",
   "execution_count": null,
   "id": "23199539-e7cd-4555-80fd-9895cd3a9aee",
   "metadata": {},
   "outputs": [],
   "source": [
    "import os\n",
    "from skimage.io import imread\n",
    "import stackview\n",
    "\n",
    "# Read the image\n",
    "image = imread('hela-cells-8bit.tif')\n",
    "\n",
    "# Display the image\n",
    "stackview.insight(image)"
   ]
  },
  {
   "cell_type": "markdown",
   "id": "58cb8f19-ca16-4f5b-b685-e7ff2d1123e8",
   "metadata": {},
   "source": [
    "# Reproduce this https://github.com/haesleinhuepf/bia-bob/blob/main/demo/analysis_workflow.ipynb"
   ]
  },
  {
   "cell_type": "markdown",
   "id": "d1f2647f-897a-4d2d-84ac-b6a84e866f1d",
   "metadata": {},
   "source": [
    "# Generating a notebook with an AI assistant. The prompt was copied directly from here https://github.com/haesleinhuepf/bia-bob/blob/main/demo/generate_notebooks.ipynb"
   ]
  }
 ],
 "metadata": {
  "kernelspec": {
   "display_name": "Python 3 (ipykernel)",
   "language": "python",
   "name": "python3"
  },
  "language_info": {
   "codemirror_mode": {
    "name": "ipython",
    "version": 3
   },
   "file_extension": ".py",
   "mimetype": "text/x-python",
   "name": "python",
   "nbconvert_exporter": "python",
   "pygments_lexer": "ipython3",
   "version": "3.10.13"
  }
 },
 "nbformat": 4,
 "nbformat_minor": 5
}

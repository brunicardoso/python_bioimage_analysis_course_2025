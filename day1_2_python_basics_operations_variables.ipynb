{
 "cells": [
  {
   "cell_type": "markdown",
   "id": "ef383ebc",
   "metadata": {
    "id": "ef383ebc"
   },
   "source": [
    "# Python (very) Basics: Operations and Variables"
   ]
  },
  {
   "cell_type": "markdown",
   "id": "a4dff8f7",
   "metadata": {
    "id": "a4dff8f7"
   },
   "source": [
    "## Arithmetic Operations\n",
    "\n",
    "- **Addition** (`+`): Adds two values.\n",
    "- **Subtraction** (`-`): Subtracts one value from another.\n",
    "- **Multiplication** (`*`): Multiplies two values.\n",
    "- **Division** (`/`): Divides one value by another.\n",
    "- **Floor Division** (`//`): Divides and returns the integer result.\n",
    "- (`%`): Returns the remainder after division.\n",
    "- **Exponentiation** (`**`): Raises one value to the power of another."
   ]
  },
  {
   "cell_type": "code",
   "execution_count": null,
   "id": "hpf-l5zn4rlA",
   "metadata": {
    "id": "hpf-l5zn4rlA"
   },
   "outputs": [],
   "source": [
    "3 + 2"
   ]
  },
  {
   "cell_type": "code",
   "execution_count": null,
   "id": "aZZfIhE24uv0",
   "metadata": {
    "id": "aZZfIhE24uv0"
   },
   "outputs": [],
   "source": [
    "3 - 2"
   ]
  },
  {
   "cell_type": "code",
   "execution_count": null,
   "id": "oOv3kzde4zqb",
   "metadata": {
    "id": "oOv3kzde4zqb"
   },
   "outputs": [],
   "source": [
    "3 * 2"
   ]
  },
  {
   "cell_type": "code",
   "execution_count": null,
   "id": "GaXfXgsP42Zj",
   "metadata": {
    "id": "GaXfXgsP42Zj"
   },
   "outputs": [],
   "source": [
    "3 / 2"
   ]
  },
  {
   "cell_type": "code",
   "execution_count": null,
   "id": "kaujV2tm462F",
   "metadata": {
    "id": "kaujV2tm462F"
   },
   "outputs": [],
   "source": [
    "3 // 2"
   ]
  },
  {
   "cell_type": "code",
   "execution_count": null,
   "id": "wNPfml4f4_ld",
   "metadata": {
    "id": "wNPfml4f4_ld"
   },
   "outputs": [],
   "source": [
    "3 % 2"
   ]
  },
  {
   "cell_type": "code",
   "execution_count": null,
   "id": "rkpUgrw-5Mif",
   "metadata": {
    "id": "rkpUgrw-5Mif"
   },
   "outputs": [],
   "source": [
    "3 ** 2"
   ]
  },
  {
   "cell_type": "markdown",
   "id": "53a56cd4",
   "metadata": {
    "id": "53a56cd4"
   },
   "source": [
    "## Variables\n",
    "\n",
    "A **variable** in Python is a way to store data. Variables allow us to label data and store it in memory, so it can be used later."
   ]
  },
  {
   "cell_type": "code",
   "execution_count": null,
   "id": "accf4f58",
   "metadata": {
    "id": "accf4f58"
   },
   "outputs": [],
   "source": [
    "a = 5\n",
    "b = 11"
   ]
  },
  {
   "cell_type": "markdown",
   "id": "e62a9d69",
   "metadata": {
    "id": "e62a9d69"
   },
   "source": [
    "## Operations on Variables\n",
    "\n",
    "Python allows you to perform various operations on variables. These can be **arithmetic operations**, **comparison operations**, or **logical operations**."
   ]
  },
  {
   "cell_type": "markdown",
   "id": "op7eMS-a6pNg",
   "metadata": {
    "id": "op7eMS-a6pNg"
   },
   "source": [
    "**## Your turn**\n",
    "\n",
    "**1. Write code below to print the operations below**\n",
    "\n",
    "sum_result = a + b  \n",
    "difference = a - b  \n",
    "product = a * b     \n",
    "quotient = b / a  \n",
    "floor_division = b //  a\n",
    "\n",
    "remainder = b % a\n",
    "\n",
    "power = b ** a    \n",
    "\n",
    "**2. Assign 3 to variable a and re-execute the variable operations**\n"
   ]
  },
  {
   "cell_type": "markdown",
   "id": "ZrgOzV2h6Lm9",
   "metadata": {
    "id": "ZrgOzV2h6Lm9"
   },
   "source": []
  },
  {
   "cell_type": "markdown",
   "id": "2199ad1a",
   "metadata": {
    "id": "2199ad1a"
   },
   "source": [
    "### Comparison Operations\n",
    "\n",
    "Comparison operations compare two values and return a boolean result (`True` or `False`).\n",
    "\n",
    "- **Equal to** (`==`)\n",
    "- **Not equal to** (`!=`)\n",
    "- **Greater than** (`>`)\n",
    "- **Less than** (`<`)\n",
    "- **Greater than or equal to** (`>=`)\n",
    "- **Less than or equal to** (`<=`)"
   ]
  },
  {
   "cell_type": "markdown",
   "id": "D6AJAkfoBcOI",
   "metadata": {
    "id": "D6AJAkfoBcOI"
   },
   "source": [
    "**Your turn: Write print statements for the comparison operations below**\n",
    "\n",
    "is_equal = a == b\n",
    "\n",
    "is_not_equal = a != b\n",
    "\n",
    "is_greater_than = a > b\n",
    "\n",
    "is_less_than = a < b"
   ]
  },
  {
   "cell_type": "markdown",
   "id": "log-hMl9B0bR",
   "metadata": {
    "id": "log-hMl9B0bR"
   },
   "source": [
    "## **Logical Operations**\n",
    "Logical operations are used to combine conditional statements or evaluate boolean expressions. These operations return a boolean value: True or False.\n",
    "\n",
    "\n",
    "**and**\tReturns True if both conditions are True.\t(x > 5) and (y < 10)\n",
    "\n",
    "**or**\tReturns True if at least one condition is True.\t(x > 5) or (y < 10)\n",
    "\n",
    "**not**\tReverses the boolean value of the condition.\tnot (x > 5)"
   ]
  },
  {
   "cell_type": "code",
   "execution_count": null,
   "id": "Ur9axbY-Ihym",
   "metadata": {
    "id": "Ur9axbY-Ihym"
   },
   "outputs": [],
   "source": [
    "x = 6\n",
    "y= 7\n",
    "print(x > 5 and y < 10)"
   ]
  },
  {
   "cell_type": "markdown",
   "id": "71c7c48d",
   "metadata": {
    "id": "71c7c48d"
   },
   "source": [
    "## Working with Strings\n",
    "\n",
    "A string is a sequence of characters enclosed in quotes."
   ]
  },
  {
   "cell_type": "code",
   "execution_count": null,
   "id": "fBKmwSrGEOxp",
   "metadata": {
    "id": "fBKmwSrGEOxp"
   },
   "outputs": [],
   "source": [
    "print(\"Hello world\")"
   ]
  },
  {
   "cell_type": "markdown",
   "id": "loCUBNsFErSc",
   "metadata": {
    "id": "loCUBNsFErSc"
   },
   "source": [
    "Variables can also contain strings"
   ]
  },
  {
   "cell_type": "code",
   "execution_count": null,
   "id": "31cefb9f",
   "metadata": {
    "id": "31cefb9f"
   },
   "outputs": [],
   "source": [
    "part1 = \"Hello Bioimage \"\n",
    "part2 = \"Analysts!\"\n",
    "greeting = part1 + part2\n",
    "print(greeting)"
   ]
  },
  {
   "cell_type": "markdown",
   "id": "HpDhZu_ZDwfm",
   "metadata": {
    "id": "HpDhZu_ZDwfm"
   },
   "source": [
    "**Your turn:**\n",
    "Write a statement to print: Hello USP community\n",
    "\n",
    "> Add blockquote\n",
    "\n"
   ]
  },
  {
   "cell_type": "markdown",
   "id": "a99871e2",
   "metadata": {
    "id": "a99871e2"
   },
   "source": [
    "## Assigning New Values to Variables\n",
    "\n",
    "Variables can be reassigned new values, updating the value stored in memory.\n",
    "\n",
    "In notebooks, the order of execution matters. In other words, the order that a cell is displayed in the notebook does not matter"
   ]
  },
  {
   "cell_type": "code",
   "execution_count": null,
   "id": "b3253956",
   "metadata": {
    "id": "b3253956"
   },
   "outputs": [],
   "source": [
    "a = 5\n",
    "a = 10"
   ]
  },
  {
   "cell_type": "markdown",
   "id": "255c76c8",
   "metadata": {
    "id": "255c76c8"
   },
   "source": [
    "## Using Variables in Expressions\n",
    "\n",
    "Variables can be used in more complex expressions combining different types of operations."
   ]
  },
  {
   "cell_type": "code",
   "execution_count": null,
   "id": "80e5e7e9",
   "metadata": {
    "id": "80e5e7e9"
   },
   "outputs": [],
   "source": [
    "a = 5\n",
    "b = 10\n",
    "result = (x + y) * 2"
   ]
  },
  {
   "cell_type": "markdown",
   "id": "6b046167",
   "metadata": {
    "id": "6b046167"
   },
   "source": [
    "## Variable Types\n",
    "\n",
    "Variables in Python don’t need to be declared explicitly. Python is dynamically typed, meaning the type of a variable is inferred when it's assigned a value."
   ]
  },
  {
   "cell_type": "code",
   "execution_count": null,
   "id": "7514fcfd",
   "metadata": {
    "id": "7514fcfd"
   },
   "outputs": [],
   "source": [
    "x = 10        # Integer\n",
    "y = 3.14      # Float\n",
    "z = \"Hello\"   # String\n",
    "is_valid = True  # Boolean"
   ]
  },
  {
   "cell_type": "markdown",
   "id": "x69eUsV8Jaer",
   "metadata": {
    "id": "x69eUsV8Jaer"
   },
   "source": [
    "# Since images are numbers, write some code performing operations with images"
   ]
  },
  {
   "cell_type": "code",
   "execution_count": null,
   "id": "NNRM5I9qJsLl",
   "metadata": {
    "id": "NNRM5I9qJsLl"
   },
   "outputs": [],
   "source": [
    "#code to display channels from the image\n",
    "#import required libraries\n",
    "import numpy as np\n",
    "from skimage.io import imread, imsave\n",
    "import matplotlib.pyplot as plt\n",
    "\n",
    "#download image\n",
    "!wget https://imagej.net/ij/images/3_channel_inverted_luts.tif\n",
    "#get channel 1\n",
    "channel1 = imread('3_channel_inverted_luts.tif')[:,:,0]\n",
    "#get channel 2\n",
    "channel2 = imread('3_channel_inverted_luts.tif')[:,:,1]\n",
    "\n",
    "#Display channel images\n",
    "fig, axs = plt.subplots(1, 2, figsize=(15, 15))\n",
    "axs[0].imshow(channel1, cmap = 'gray')\n",
    "axs[0].axis('off')\n",
    "axs[1].imshow(channel2, cmap = 'gray')\n",
    "axs[1].axis('off')\n"
   ]
  },
  {
   "cell_type": "markdown",
   "id": "2UBlLXuYMm6Y",
   "metadata": {
    "id": "2UBlLXuYMm6Y"
   },
   "source": [
    "# Example"
   ]
  },
  {
   "cell_type": "code",
   "execution_count": null,
   "id": "7wD1jmpfLVrP",
   "metadata": {
    "id": "7wD1jmpfLVrP"
   },
   "outputs": [],
   "source": [
    "channel_sum = channel1 + channel2\n",
    "plt.imshow(channel_sum, cmap='gray')"
   ]
  },
  {
   "cell_type": "markdown",
   "id": "HXK4azmZNGn0",
   "metadata": {
    "id": "HXK4azmZNGn0"
   },
   "source": [
    "Very import!! The code above is not displaying channel1 and channel2 merged into a single image representation, it is rather constructing an image that is a result of the sum of each pixel values, in an element wise manner, of the two channels.\n",
    "Merging channels is not sum operation. It is just a way of displaying two or more channels. Run the code below displaying merged channels"
   ]
  },
  {
   "cell_type": "code",
   "execution_count": null,
   "id": "qWYA1TMpQef6",
   "metadata": {
    "id": "qWYA1TMpQef6"
   },
   "outputs": [],
   "source": [
    "# @title\n",
    "import matplotlib.pyplot as plt\n",
    "import matplotlib.colors as mcolors\n",
    "from skimage.io import imread\n",
    "import numpy as np\n",
    "\n",
    "# Load your images\n",
    "# Get channel 1 (first channel of the image)\n",
    "channel1 = imread('3_channel_inverted_luts.tif')[:, :, 0]\n",
    "# Get channel 2 (second channel of the image)\n",
    "channel2 = imread('3_channel_inverted_luts.tif')[:, :, 1]\n",
    "\n",
    "# Define custom colormaps cyan_cmap and magenta_cmap\n",
    "cyan_cmap = mcolors.LinearSegmentedColormap.from_list(\"\", [\"black\", \"red\"])\n",
    "magenta_cmap = mcolors.LinearSegmentedColormap.from_list(\"\", [\"black\", \"green\"])\n",
    "\n",
    "# Create the figure and axes\n",
    "fig, axs = plt.subplots(1, 3, figsize=(15, 5))  # 1 row, 3 columns\n",
    "\n",
    "# Plot the channel 1 image (full image)\n",
    "axs[0].imshow(channel1, cmap=cyan_cmap)\n",
    "axs[0].axis('off')\n",
    "axs[0].set_title('Channel 1', fontsize=16)\n",
    "\n",
    "# Plot the channel 2 image (full image)\n",
    "axs[1].imshow(channel2, cmap=magenta_cmap)\n",
    "axs[1].axis('off')\n",
    "axs[1].set_title('Channel 2', fontsize=16)\n",
    "\n",
    "# Create and plot the merged visualization (full image)\n",
    "merged = np.stack(\n",
    "    [\n",
    "        channel1 / channel1.max(),  # Normalize channel 1\n",
    "        channel2 / channel2.max(),  # Normalize channel 2\n",
    "        np.zeros_like(channel1),  # Blue channel (empty)\n",
    "    ],\n",
    "    axis=-1,\n",
    ")\n",
    "axs[2].imshow(merged)\n",
    "axs[2].axis('off')\n",
    "axs[2].set_title('Merged', fontsize=16)\n",
    "\n"
   ]
  },
  {
   "cell_type": "markdown",
   "id": "Lg4eiQiTzNqs",
   "metadata": {
    "id": "Lg4eiQiTzNqs"
   },
   "source": [
    "# Try out some operations with images"
   ]
  },
  {
   "cell_type": "code",
   "execution_count": null,
   "id": "ZvCfKbkuW_kl",
   "metadata": {
    "id": "ZvCfKbkuW_kl"
   },
   "outputs": [],
   "source": []
  }
 ],
 "metadata": {
  "colab": {
   "provenance": [
    {
     "file_id": "19PX9XTYT18QNgSYrykAq_VlNlUVKqEmQ",
     "timestamp": 1739888580397
    }
   ]
  },
  "kernelspec": {
   "display_name": "Python 3 (ipykernel)",
   "language": "python",
   "name": "python3"
  },
  "language_info": {
   "codemirror_mode": {
    "name": "ipython",
    "version": 3
   },
   "file_extension": ".py",
   "mimetype": "text/x-python",
   "name": "python",
   "nbconvert_exporter": "python",
   "pygments_lexer": "ipython3",
   "version": "3.10.13"
  }
 },
 "nbformat": 4,
 "nbformat_minor": 5
}
